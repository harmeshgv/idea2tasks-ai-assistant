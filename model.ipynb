{
 "cells": [
  {
   "cell_type": "code",
   "execution_count": 7,
   "id": "3ff9de2b",
   "metadata": {},
   "outputs": [],
   "source": [
    "import requests\n",
    "import json"
   ]
  },
  {
   "cell_type": "code",
   "execution_count": 15,
   "id": "2e0cd4cc",
   "metadata": {},
   "outputs": [
    {
     "name": "stdout",
     "output_type": "stream",
     "text": [
      "API Key Loaded Successfully: gsk_qNJCWf*****\n"
     ]
    }
   ],
   "source": [
    "import os\n",
    "\n",
    "# Get the API key from the environment variable\n",
    "api_key = os.getenv(\"GROQ_API_KEY\")\n",
    "\n",
    "# Optional: Check if it's loaded\n",
    "if api_key:\n",
    "    print(\"API Key Loaded Successfully:\", api_key[:10] + \"*****\")\n",
    "else:\n",
    "    print(\"API Key not found. Check if the environment variable is set.\")\n"
   ]
  },
  {
   "cell_type": "code",
   "execution_count": 16,
   "id": "6ebd3183",
   "metadata": {},
   "outputs": [],
   "source": [
    "url = \"https://api.groq.com/openai/v1/chat/completions\"\n",
    "headers = {\n",
    "    \"Content-Type\": \"application/json\",\n",
    "    \"Authorization\": f\"Bearer {api_key}\"\n",
    "}"
   ]
  },
  {
   "cell_type": "code",
   "execution_count": 17,
   "id": "36786d54",
   "metadata": {},
   "outputs": [],
   "source": [
    "idea = \"I want to build an AI tool that turns raw project ideas into structured tasks and visual graphs.\"\n",
    "\n",
    "data = {\n",
    "    \"model\": \"meta-llama/llama-4-scout-17b-16e-instruct\",\n",
    "    \"messages\": [\n",
    "        {\n",
    "            \"role\": \"user\",\n",
    "            \"content\": f\"\"\"\n",
    "You are an expert AI project planner.\n",
    "\n",
    "My project idea is:\n",
    "\\\"{idea}\\\"\n",
    "\n",
    "Please break this idea down into a complete development roadmap. Include:\n",
    "- Clear and well-defined **modules or components**\n",
    "- An **ordered list of tasks** under each module\n",
    "- Optional task **dependencies**\n",
    "- Output everything in **structured JSON** format with fields:\n",
    "  - `module`\n",
    "  - `tasks` (as an ordered list)\n",
    "  - `dependencies` (optional)\n",
    "\n",
    "Make sure the task list is actionable and developer-ready.\n",
    "\"\"\"\n",
    "        }\n",
    "    ]\n",
    "}\n"
   ]
  },
  {
   "cell_type": "code",
   "execution_count": 18,
   "id": "f54fcbff",
   "metadata": {},
   "outputs": [],
   "source": [
    "response = requests.post(url, headers=headers, json=data)"
   ]
  },
  {
   "cell_type": "code",
   "execution_count": 19,
   "id": "aa92fbb4",
   "metadata": {},
   "outputs": [
    {
     "name": "stdout",
     "output_type": "stream",
     "text": [
      "200\n",
      "{'id': 'chatcmpl-5df1f11d-2617-4412-b992-e0660286a5fb', 'object': 'chat.completion', 'created': 1749462403, 'model': 'meta-llama/llama-4-scout-17b-16e-instruct', 'choices': [{'index': 0, 'message': {'role': 'assistant', 'content': 'After analyzing your project idea, I\\'ve broken it down into a comprehensive development roadmap. Here is the structured JSON output:\\n\\n```json\\n[\\n  {\\n    \"module\": \"Natural Language Processing (NLP) Module\",\\n    \"tasks\": [\\n      \"Research and select a suitable NLP library (e.g., spaCy, NLTK)\",\\n      \"Develop a text preprocessing pipeline to clean and normalize input text\",\\n      \"Implement part-of-speech tagging and named entity recognition\",\\n      \"Train a machine learning model to extract relevant information from raw project ideas\"\\n    ]\\n  },\\n  {\\n    \"module\": \"Task Structuring Module\",\\n    \"tasks\": [\\n      \"Design a data structure to represent structured tasks\",\\n      \"Develop an algorithm to map extracted information to structured tasks\",\\n      \"Implement a task clustering mechanism to group related tasks\",\\n      \"Integrate with NLP Module to receive processed input text\"\\n    ],\\n    \"dependencies\": [\"NLP Module\"]\\n  },\\n  {\\n    \"module\": \"Graph Generation Module\",\\n    \"tasks\": [\\n      \"Research and select a suitable graph library (e.g., NetworkX, Graphviz)\",\\n      \"Develop a graph data structure to represent task relationships\",\\n      \"Implement a graph layout algorithm to visualize task dependencies\",\\n      \"Integrate with Task Structuring Module to receive structured tasks\"\\n    ],\\n    \"dependencies\": [\"Task Structuring Module\"]\\n  },\\n  {\\n    \"module\": \"User Interface (UI) Module\",\\n    \"tasks\": [\\n      \"Design a user-friendly interface to input raw project ideas\",\\n      \"Implement a text input field and a graph visualization area\",\\n      \"Develop a UI component to display structured tasks and graph\",\\n      \"Integrate with Task Structuring and Graph Generation Modules\"\\n    ],\\n    \"dependencies\": [\"Task Structuring Module\", \"Graph Generation Module\"]\\n  },\\n  {\\n    \"module\": \"Integration and Testing Module\",\\n    \"tasks\": [\\n      \"Integrate all modules and components\",\\n      \"Develop unit tests and integration tests for each module\",\\n      \"Perform end-to-end testing of the entire system\",\\n      \"Conduct performance optimization and bug fixing\"\\n    ],\\n    \"dependencies\": [\"NLP Module\", \"Task Structuring Module\", \"Graph Generation Module\", \"UI Module\"]\\n  }\\n]\\n```\\n\\nHere\\'s a brief explanation of each module and its tasks:\\n\\n1. **Natural Language Processing (NLP) Module**: This module focuses on processing raw project ideas using NLP techniques. It involves text preprocessing, part-of-speech tagging, named entity recognition, and machine learning model training.\\n2. **Task Structuring Module**: This module takes the output from the NLP Module and structures it into tasks. It involves designing a data structure, developing an algorithm, and integrating with the NLP Module.\\n3. **Graph Generation Module**: This module generates a visual graph representing task relationships. It involves selecting a graph library, developing a graph data structure, and integrating with the Task Structuring Module.\\n4. **User Interface (UI) Module**: This module provides a user-friendly interface for inputting raw project ideas and displaying structured tasks and graphs. It involves designing the UI, implementing input fields and visualization areas, and integrating with other modules.\\n5. **Integration and Testing Module**: This module ensures that all modules work together seamlessly. It involves integrating all components, developing tests, and performing performance optimization and bug fixing.\\n\\nThe dependencies listed for each module indicate that the tasks in one module rely on the completion of tasks in another module. For example, the Task Structuring Module depends on the NLP Module, as it needs the output from the NLP Module to structure tasks. Similarly, the Graph Generation Module depends on the Task Structuring Module, as it needs the structured tasks to generate the graph. The UI Module depends on both the Task Structuring and Graph Generation Modules, as it needs to display the structured tasks and graph. Finally, the Integration and Testing Module depends on all other modules, as it needs to integrate and test the entire system.'}, 'logprobs': None, 'finish_reason': 'stop'}], 'usage': {'queue_time': 0.041755626, 'prompt_tokens': 127, 'prompt_time': 0.005809604, 'completion_tokens': 802, 'completion_time': 1.7190113230000001, 'total_tokens': 929, 'total_time': 1.7248209270000001}, 'usage_breakdown': {'models': None}, 'system_fingerprint': 'fp_37da608fc1', 'x_groq': {'id': 'req_01jxa1bjhve2tsc8pjtzpjxy9f'}}\n"
     ]
    }
   ],
   "source": [
    "print(response.status_code)\n",
    "print(response.json())"
   ]
  },
  {
   "cell_type": "code",
   "execution_count": 20,
   "id": "dab9bd0c",
   "metadata": {},
   "outputs": [
    {
     "name": "stdout",
     "output_type": "stream",
     "text": [
      "After analyzing your project idea, I've broken it down into a comprehensive development roadmap. Here is the structured JSON output:\n",
      "\n",
      "```json\n",
      "[\n",
      "  {\n",
      "    \"module\": \"Natural Language Processing (NLP) Module\",\n",
      "    \"tasks\": [\n",
      "      \"Research and select a suitable NLP library (e.g., spaCy, NLTK)\",\n",
      "      \"Develop a text preprocessing pipeline to clean and normalize input text\",\n",
      "      \"Implement part-of-speech tagging and named entity recognition\",\n",
      "      \"Train a machine learning model to extract relevant information from raw project ideas\"\n",
      "    ]\n",
      "  },\n",
      "  {\n",
      "    \"module\": \"Task Structuring Module\",\n",
      "    \"tasks\": [\n",
      "      \"Design a data structure to represent structured tasks\",\n",
      "      \"Develop an algorithm to map extracted information to structured tasks\",\n",
      "      \"Implement a task clustering mechanism to group related tasks\",\n",
      "      \"Integrate with NLP Module to receive processed input text\"\n",
      "    ],\n",
      "    \"dependencies\": [\"NLP Module\"]\n",
      "  },\n",
      "  {\n",
      "    \"module\": \"Graph Generation Module\",\n",
      "    \"tasks\": [\n",
      "      \"Research and select a suitable graph library (e.g., NetworkX, Graphviz)\",\n",
      "      \"Develop a graph data structure to represent task relationships\",\n",
      "      \"Implement a graph layout algorithm to visualize task dependencies\",\n",
      "      \"Integrate with Task Structuring Module to receive structured tasks\"\n",
      "    ],\n",
      "    \"dependencies\": [\"Task Structuring Module\"]\n",
      "  },\n",
      "  {\n",
      "    \"module\": \"User Interface (UI) Module\",\n",
      "    \"tasks\": [\n",
      "      \"Design a user-friendly interface to input raw project ideas\",\n",
      "      \"Implement a text input field and a graph visualization area\",\n",
      "      \"Develop a UI component to display structured tasks and graph\",\n",
      "      \"Integrate with Task Structuring and Graph Generation Modules\"\n",
      "    ],\n",
      "    \"dependencies\": [\"Task Structuring Module\", \"Graph Generation Module\"]\n",
      "  },\n",
      "  {\n",
      "    \"module\": \"Integration and Testing Module\",\n",
      "    \"tasks\": [\n",
      "      \"Integrate all modules and components\",\n",
      "      \"Develop unit tests and integration tests for each module\",\n",
      "      \"Perform end-to-end testing of the entire system\",\n",
      "      \"Conduct performance optimization and bug fixing\"\n",
      "    ],\n",
      "    \"dependencies\": [\"NLP Module\", \"Task Structuring Module\", \"Graph Generation Module\", \"UI Module\"]\n",
      "  }\n",
      "]\n",
      "```\n",
      "\n",
      "Here's a brief explanation of each module and its tasks:\n",
      "\n",
      "1. **Natural Language Processing (NLP) Module**: This module focuses on processing raw project ideas using NLP techniques. It involves text preprocessing, part-of-speech tagging, named entity recognition, and machine learning model training.\n",
      "2. **Task Structuring Module**: This module takes the output from the NLP Module and structures it into tasks. It involves designing a data structure, developing an algorithm, and integrating with the NLP Module.\n",
      "3. **Graph Generation Module**: This module generates a visual graph representing task relationships. It involves selecting a graph library, developing a graph data structure, and integrating with the Task Structuring Module.\n",
      "4. **User Interface (UI) Module**: This module provides a user-friendly interface for inputting raw project ideas and displaying structured tasks and graphs. It involves designing the UI, implementing input fields and visualization areas, and integrating with other modules.\n",
      "5. **Integration and Testing Module**: This module ensures that all modules work together seamlessly. It involves integrating all components, developing tests, and performing performance optimization and bug fixing.\n",
      "\n",
      "The dependencies listed for each module indicate that the tasks in one module rely on the completion of tasks in another module. For example, the Task Structuring Module depends on the NLP Module, as it needs the output from the NLP Module to structure tasks. Similarly, the Graph Generation Module depends on the Task Structuring Module, as it needs the structured tasks to generate the graph. The UI Module depends on both the Task Structuring and Graph Generation Modules, as it needs to display the structured tasks and graph. Finally, the Integration and Testing Module depends on all other modules, as it needs to integrate and test the entire system.\n"
     ]
    }
   ],
   "source": [
    "print(response.json()['choices'][0]['message']['content'])"
   ]
  },
  {
   "cell_type": "code",
   "execution_count": null,
   "id": "cd4f38d4",
   "metadata": {},
   "outputs": [],
   "source": []
  }
 ],
 "metadata": {
  "kernelspec": {
   "display_name": "Python 3",
   "language": "python",
   "name": "python3"
  },
  "language_info": {
   "codemirror_mode": {
    "name": "ipython",
    "version": 3
   },
   "file_extension": ".py",
   "mimetype": "text/x-python",
   "name": "python",
   "nbconvert_exporter": "python",
   "pygments_lexer": "ipython3",
   "version": "3.9.13"
  }
 },
 "nbformat": 4,
 "nbformat_minor": 5
}
